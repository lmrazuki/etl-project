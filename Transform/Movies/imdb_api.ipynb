{
 "cells": [
  {
   "cell_type": "code",
   "execution_count": 1,
   "metadata": {},
   "outputs": [],
   "source": [
    "#import dependencies\n",
    "import requests\n",
    "import json\n",
    "from config import api_key\n",
    "from pprint import pprint\n",
    "import pandas as pd\n",
    "from time import sleep\n",
    "from tqdm import tqdm"
   ]
  },
  {
   "cell_type": "code",
   "execution_count": 2,
   "metadata": {},
   "outputs": [],
   "source": [
    "#import csv file and convert to dataframe\n",
    "movie_csv = \"../../Extract/Movies/MoviesOnStreamingPlatforms_updated.csv\" \n",
    "movies = pd.read_csv(movie_csv)"
   ]
  },
  {
   "cell_type": "code",
   "execution_count": 3,
   "metadata": {},
   "outputs": [
    {
     "data": {
      "text/html": [
       "<div>\n",
       "<style scoped>\n",
       "    .dataframe tbody tr th:only-of-type {\n",
       "        vertical-align: middle;\n",
       "    }\n",
       "\n",
       "    .dataframe tbody tr th {\n",
       "        vertical-align: top;\n",
       "    }\n",
       "\n",
       "    .dataframe thead th {\n",
       "        text-align: right;\n",
       "    }\n",
       "</style>\n",
       "<table border=\"1\" class=\"dataframe\">\n",
       "  <thead>\n",
       "    <tr style=\"text-align: right;\">\n",
       "      <th></th>\n",
       "      <th>Unnamed: 0</th>\n",
       "      <th>ID</th>\n",
       "      <th>Title</th>\n",
       "      <th>Year</th>\n",
       "      <th>Age</th>\n",
       "      <th>IMDb</th>\n",
       "      <th>Rotten Tomatoes</th>\n",
       "      <th>Netflix</th>\n",
       "      <th>Hulu</th>\n",
       "      <th>Prime Video</th>\n",
       "      <th>Disney+</th>\n",
       "      <th>Type</th>\n",
       "      <th>Directors</th>\n",
       "      <th>Genres</th>\n",
       "      <th>Country</th>\n",
       "      <th>Language</th>\n",
       "      <th>Runtime</th>\n",
       "    </tr>\n",
       "  </thead>\n",
       "  <tbody>\n",
       "    <tr>\n",
       "      <th>0</th>\n",
       "      <td>0</td>\n",
       "      <td>1</td>\n",
       "      <td>Inception</td>\n",
       "      <td>2010</td>\n",
       "      <td>13+</td>\n",
       "      <td>8.8</td>\n",
       "      <td>87%</td>\n",
       "      <td>1</td>\n",
       "      <td>0</td>\n",
       "      <td>0</td>\n",
       "      <td>0</td>\n",
       "      <td>0</td>\n",
       "      <td>Christopher Nolan</td>\n",
       "      <td>Action,Adventure,Sci-Fi,Thriller</td>\n",
       "      <td>United States,United Kingdom</td>\n",
       "      <td>English,Japanese,French</td>\n",
       "      <td>148.0</td>\n",
       "    </tr>\n",
       "    <tr>\n",
       "      <th>1</th>\n",
       "      <td>1</td>\n",
       "      <td>2</td>\n",
       "      <td>The Matrix</td>\n",
       "      <td>1999</td>\n",
       "      <td>18+</td>\n",
       "      <td>8.7</td>\n",
       "      <td>87%</td>\n",
       "      <td>1</td>\n",
       "      <td>0</td>\n",
       "      <td>0</td>\n",
       "      <td>0</td>\n",
       "      <td>0</td>\n",
       "      <td>Lana Wachowski,Lilly Wachowski</td>\n",
       "      <td>Action,Sci-Fi</td>\n",
       "      <td>United States</td>\n",
       "      <td>English</td>\n",
       "      <td>136.0</td>\n",
       "    </tr>\n",
       "    <tr>\n",
       "      <th>2</th>\n",
       "      <td>2</td>\n",
       "      <td>3</td>\n",
       "      <td>Avengers: Infinity War</td>\n",
       "      <td>2018</td>\n",
       "      <td>13+</td>\n",
       "      <td>8.5</td>\n",
       "      <td>84%</td>\n",
       "      <td>1</td>\n",
       "      <td>0</td>\n",
       "      <td>0</td>\n",
       "      <td>0</td>\n",
       "      <td>0</td>\n",
       "      <td>Anthony Russo,Joe Russo</td>\n",
       "      <td>Action,Adventure,Sci-Fi</td>\n",
       "      <td>United States</td>\n",
       "      <td>English</td>\n",
       "      <td>149.0</td>\n",
       "    </tr>\n",
       "    <tr>\n",
       "      <th>3</th>\n",
       "      <td>3</td>\n",
       "      <td>4</td>\n",
       "      <td>Back to the Future</td>\n",
       "      <td>1985</td>\n",
       "      <td>7+</td>\n",
       "      <td>8.5</td>\n",
       "      <td>96%</td>\n",
       "      <td>1</td>\n",
       "      <td>0</td>\n",
       "      <td>0</td>\n",
       "      <td>0</td>\n",
       "      <td>0</td>\n",
       "      <td>Robert Zemeckis</td>\n",
       "      <td>Adventure,Comedy,Sci-Fi</td>\n",
       "      <td>United States</td>\n",
       "      <td>English</td>\n",
       "      <td>116.0</td>\n",
       "    </tr>\n",
       "    <tr>\n",
       "      <th>4</th>\n",
       "      <td>4</td>\n",
       "      <td>5</td>\n",
       "      <td>The Good, the Bad and the Ugly</td>\n",
       "      <td>1966</td>\n",
       "      <td>18+</td>\n",
       "      <td>8.8</td>\n",
       "      <td>97%</td>\n",
       "      <td>1</td>\n",
       "      <td>0</td>\n",
       "      <td>1</td>\n",
       "      <td>0</td>\n",
       "      <td>0</td>\n",
       "      <td>Sergio Leone</td>\n",
       "      <td>Western</td>\n",
       "      <td>Italy,Spain,West Germany</td>\n",
       "      <td>Italian</td>\n",
       "      <td>161.0</td>\n",
       "    </tr>\n",
       "  </tbody>\n",
       "</table>\n",
       "</div>"
      ],
      "text/plain": [
       "   Unnamed: 0  ID                           Title  Year  Age  IMDb  \\\n",
       "0           0   1                       Inception  2010  13+   8.8   \n",
       "1           1   2                      The Matrix  1999  18+   8.7   \n",
       "2           2   3          Avengers: Infinity War  2018  13+   8.5   \n",
       "3           3   4              Back to the Future  1985   7+   8.5   \n",
       "4           4   5  The Good, the Bad and the Ugly  1966  18+   8.8   \n",
       "\n",
       "  Rotten Tomatoes  Netflix  Hulu  Prime Video  Disney+  Type  \\\n",
       "0             87%        1     0            0        0     0   \n",
       "1             87%        1     0            0        0     0   \n",
       "2             84%        1     0            0        0     0   \n",
       "3             96%        1     0            0        0     0   \n",
       "4             97%        1     0            1        0     0   \n",
       "\n",
       "                        Directors                            Genres  \\\n",
       "0               Christopher Nolan  Action,Adventure,Sci-Fi,Thriller   \n",
       "1  Lana Wachowski,Lilly Wachowski                     Action,Sci-Fi   \n",
       "2         Anthony Russo,Joe Russo           Action,Adventure,Sci-Fi   \n",
       "3                 Robert Zemeckis           Adventure,Comedy,Sci-Fi   \n",
       "4                    Sergio Leone                           Western   \n",
       "\n",
       "                        Country                 Language  Runtime  \n",
       "0  United States,United Kingdom  English,Japanese,French    148.0  \n",
       "1                 United States                  English    136.0  \n",
       "2                 United States                  English    149.0  \n",
       "3                 United States                  English    116.0  \n",
       "4      Italy,Spain,West Germany                  Italian    161.0  "
      ]
     },
     "execution_count": 3,
     "metadata": {},
     "output_type": "execute_result"
    }
   ],
   "source": [
    "movies.head()"
   ]
  },
  {
   "cell_type": "code",
   "execution_count": 4,
   "metadata": {},
   "outputs": [
    {
     "data": {
      "text/plain": [
       "Unnamed: 0         16744\n",
       "ID                 16744\n",
       "Title              16744\n",
       "Year               16744\n",
       "Age                 7354\n",
       "IMDb               16173\n",
       "Rotten Tomatoes     5158\n",
       "Netflix            16744\n",
       "Hulu               16744\n",
       "Prime Video        16744\n",
       "Disney+            16744\n",
       "Type               16744\n",
       "Directors          16018\n",
       "Genres             16469\n",
       "Country            16309\n",
       "Language           16145\n",
       "Runtime            16152\n",
       "dtype: int64"
      ]
     },
     "execution_count": 4,
     "metadata": {},
     "output_type": "execute_result"
    }
   ],
   "source": [
    "#check to see count of dataframe\n",
    "movies.count()"
   ]
  },
  {
   "cell_type": "code",
   "execution_count": 5,
   "metadata": {},
   "outputs": [
    {
     "data": {
      "text/plain": [
       "Unnamed: 0           int64\n",
       "ID                   int64\n",
       "Title               object\n",
       "Year                 int64\n",
       "Age                 object\n",
       "IMDb               float64\n",
       "Rotten Tomatoes     object\n",
       "Netflix              int64\n",
       "Hulu                 int64\n",
       "Prime Video          int64\n",
       "Disney+              int64\n",
       "Type                 int64\n",
       "Directors           object\n",
       "Genres              object\n",
       "Country             object\n",
       "Language            object\n",
       "Runtime            float64\n",
       "dtype: object"
      ]
     },
     "execution_count": 5,
     "metadata": {},
     "output_type": "execute_result"
    }
   ],
   "source": [
    "movies.dtypes"
   ]
  },
  {
   "cell_type": "code",
   "execution_count": 6,
   "metadata": {},
   "outputs": [],
   "source": [
    "#filter out movies on Prime Video\n",
    "movies_filtered = movies[(movies['Prime Video'] == 0)]                  "
   ]
  },
  {
   "cell_type": "code",
   "execution_count": 7,
   "metadata": {},
   "outputs": [
    {
     "data": {
      "text/plain": [
       "Unnamed: 0         4390\n",
       "ID                 4390\n",
       "Title              4390\n",
       "Year               4390\n",
       "Age                2375\n",
       "IMDb               4265\n",
       "Rotten Tomatoes    2081\n",
       "Netflix            4390\n",
       "Hulu               4390\n",
       "Prime Video        4390\n",
       "Disney+            4390\n",
       "Type               4390\n",
       "Directors          4191\n",
       "Genres             4297\n",
       "Country            4231\n",
       "Language           4208\n",
       "Runtime            4158\n",
       "dtype: int64"
      ]
     },
     "execution_count": 7,
     "metadata": {},
     "output_type": "execute_result"
    }
   ],
   "source": [
    "#check the count to see how much is left over after filtering out Prime Video\n",
    "movies_filtered.count()"
   ]
  },
  {
   "cell_type": "code",
   "execution_count": 8,
   "metadata": {},
   "outputs": [],
   "source": [
    "#filter columns to only get the Title and Year columns\n",
    "movie_title = movies_filtered[\"Title\"]\n",
    "movie_year = movies_filtered[\"Year\"]"
   ]
  },
  {
   "cell_type": "code",
   "execution_count": 9,
   "metadata": {},
   "outputs": [],
   "source": [
    "#set the url for the IMDB api and use the api_key from the config.py\n",
    "url = \"http://www.omdbapi.com/?t=\"\n",
    "apikey = \"&apikey=\" + api_key"
   ]
  },
  {
   "cell_type": "code",
   "execution_count": 10,
   "metadata": {},
   "outputs": [
    {
     "name": "stderr",
     "output_type": "stream",
     "text": [
      "4390it [03:01, 24.24it/s]\n"
     ]
    }
   ],
   "source": [
    "#create empty list to store json objects into\n",
    "movie_api_list = []\n",
    "\n",
    "#for loop to go through each movie in Title column and store the json object into the movie_api_list list\n",
    "for index, row in tqdm(movies_filtered.iterrows()):\n",
    "    \n",
    "    movie = row[\"Title\"]\n",
    "    year = row[\"Year\"]\n",
    "    \n",
    "    url_movie = (url + movie + \"&y=\" + str(year) + apikey )\n",
    "    \n",
    "    response = requests.get(url_movie)\n",
    "    data = response.json()\n",
    "    df = pd.json_normalize(data)\n",
    "    movie_api_list.append(df)\n",
    "    "
   ]
  },
  {
   "cell_type": "code",
   "execution_count": 11,
   "metadata": {},
   "outputs": [],
   "source": [
    "#convert list of json objects into dataframe. Without ignore_index = True the index will be 0 for all rows\n",
    "movies_df = pd.concat(movie_api_list, ignore_index=True)"
   ]
  },
  {
   "cell_type": "code",
   "execution_count": 12,
   "metadata": {},
   "outputs": [
    {
     "data": {
      "text/plain": [
       "Index(['Title', 'Year', 'Rated', 'Released', 'Runtime', 'Genre', 'Director',\n",
       "       'Writer', 'Actors', 'Plot', 'Language', 'Country', 'Awards', 'Poster',\n",
       "       'Ratings', 'Metascore', 'imdbRating', 'imdbVotes', 'imdbID', 'Type',\n",
       "       'DVD', 'BoxOffice', 'Production', 'Website', 'Response', 'Error',\n",
       "       'totalSeasons'],\n",
       "      dtype='object')"
      ]
     },
     "execution_count": 12,
     "metadata": {},
     "output_type": "execute_result"
    }
   ],
   "source": [
    "#check to see the columns\n",
    "movies_df.columns"
   ]
  },
  {
   "cell_type": "code",
   "execution_count": 13,
   "metadata": {},
   "outputs": [],
   "source": [
    "#select only the columns we want\n",
    "movies_df_clean = movies_df[[\"Title\", \"Year\", \"Director\", \"Genre\", \"imdbRating\", \"imdbVotes\", \"Ratings\", \"Country\", \"Awards\" ]].copy()"
   ]
  },
  {
   "cell_type": "code",
   "execution_count": 14,
   "metadata": {},
   "outputs": [
    {
     "data": {
      "text/html": [
       "<div>\n",
       "<style scoped>\n",
       "    .dataframe tbody tr th:only-of-type {\n",
       "        vertical-align: middle;\n",
       "    }\n",
       "\n",
       "    .dataframe tbody tr th {\n",
       "        vertical-align: top;\n",
       "    }\n",
       "\n",
       "    .dataframe thead th {\n",
       "        text-align: right;\n",
       "    }\n",
       "</style>\n",
       "<table border=\"1\" class=\"dataframe\">\n",
       "  <thead>\n",
       "    <tr style=\"text-align: right;\">\n",
       "      <th></th>\n",
       "      <th>Title</th>\n",
       "      <th>Year</th>\n",
       "      <th>Director</th>\n",
       "      <th>Genre</th>\n",
       "      <th>imdbRating</th>\n",
       "      <th>imdbVotes</th>\n",
       "      <th>Ratings</th>\n",
       "      <th>Country</th>\n",
       "      <th>Awards</th>\n",
       "    </tr>\n",
       "  </thead>\n",
       "  <tbody>\n",
       "    <tr>\n",
       "      <th>0</th>\n",
       "      <td>Inception</td>\n",
       "      <td>2010</td>\n",
       "      <td>Christopher Nolan</td>\n",
       "      <td>Action, Adventure, Sci-Fi, Thriller</td>\n",
       "      <td>8.8</td>\n",
       "      <td>2,029,549</td>\n",
       "      <td>[{'Source': 'Internet Movie Database', 'Value'...</td>\n",
       "      <td>USA, UK</td>\n",
       "      <td>Won 4 Oscars. Another 152 wins &amp; 218 nominations.</td>\n",
       "    </tr>\n",
       "    <tr>\n",
       "      <th>1</th>\n",
       "      <td>The Matrix</td>\n",
       "      <td>1999</td>\n",
       "      <td>Lana Wachowski, Lilly Wachowski</td>\n",
       "      <td>Action, Sci-Fi</td>\n",
       "      <td>8.7</td>\n",
       "      <td>1,647,373</td>\n",
       "      <td>[{'Source': 'Internet Movie Database', 'Value'...</td>\n",
       "      <td>USA</td>\n",
       "      <td>Won 4 Oscars. Another 37 wins &amp; 51 nominations.</td>\n",
       "    </tr>\n",
       "    <tr>\n",
       "      <th>2</th>\n",
       "      <td>Avengers: Infinity War</td>\n",
       "      <td>2018</td>\n",
       "      <td>Anthony Russo, Joe Russo</td>\n",
       "      <td>Action, Adventure, Sci-Fi</td>\n",
       "      <td>8.4</td>\n",
       "      <td>812,007</td>\n",
       "      <td>[{'Source': 'Internet Movie Database', 'Value'...</td>\n",
       "      <td>USA</td>\n",
       "      <td>Nominated for 1 Oscar. Another 46 wins &amp; 75 no...</td>\n",
       "    </tr>\n",
       "    <tr>\n",
       "      <th>3</th>\n",
       "      <td>Back to the Future</td>\n",
       "      <td>1985</td>\n",
       "      <td>Robert Zemeckis</td>\n",
       "      <td>Adventure, Comedy, Sci-Fi</td>\n",
       "      <td>8.5</td>\n",
       "      <td>1,039,498</td>\n",
       "      <td>[{'Source': 'Internet Movie Database', 'Value'...</td>\n",
       "      <td>USA</td>\n",
       "      <td>Won 1 Oscar. Another 19 wins &amp; 25 nominations.</td>\n",
       "    </tr>\n",
       "    <tr>\n",
       "      <th>4</th>\n",
       "      <td>Spider-Man: Into the Spider-Verse</td>\n",
       "      <td>2018</td>\n",
       "      <td>Bob Persichetti, Peter Ramsey, Rodney Rothman</td>\n",
       "      <td>Animation, Action, Adventure, Family, Sci-Fi</td>\n",
       "      <td>8.4</td>\n",
       "      <td>344,012</td>\n",
       "      <td>[{'Source': 'Internet Movie Database', 'Value'...</td>\n",
       "      <td>USA</td>\n",
       "      <td>Won 1 Oscar. Another 79 wins &amp; 55 nominations.</td>\n",
       "    </tr>\n",
       "  </tbody>\n",
       "</table>\n",
       "</div>"
      ],
      "text/plain": [
       "                               Title  Year  \\\n",
       "0                          Inception  2010   \n",
       "1                         The Matrix  1999   \n",
       "2             Avengers: Infinity War  2018   \n",
       "3                 Back to the Future  1985   \n",
       "4  Spider-Man: Into the Spider-Verse  2018   \n",
       "\n",
       "                                        Director  \\\n",
       "0                              Christopher Nolan   \n",
       "1                Lana Wachowski, Lilly Wachowski   \n",
       "2                       Anthony Russo, Joe Russo   \n",
       "3                                Robert Zemeckis   \n",
       "4  Bob Persichetti, Peter Ramsey, Rodney Rothman   \n",
       "\n",
       "                                          Genre imdbRating  imdbVotes  \\\n",
       "0           Action, Adventure, Sci-Fi, Thriller        8.8  2,029,549   \n",
       "1                                Action, Sci-Fi        8.7  1,647,373   \n",
       "2                     Action, Adventure, Sci-Fi        8.4    812,007   \n",
       "3                     Adventure, Comedy, Sci-Fi        8.5  1,039,498   \n",
       "4  Animation, Action, Adventure, Family, Sci-Fi        8.4    344,012   \n",
       "\n",
       "                                             Ratings  Country  \\\n",
       "0  [{'Source': 'Internet Movie Database', 'Value'...  USA, UK   \n",
       "1  [{'Source': 'Internet Movie Database', 'Value'...      USA   \n",
       "2  [{'Source': 'Internet Movie Database', 'Value'...      USA   \n",
       "3  [{'Source': 'Internet Movie Database', 'Value'...      USA   \n",
       "4  [{'Source': 'Internet Movie Database', 'Value'...      USA   \n",
       "\n",
       "                                              Awards  \n",
       "0  Won 4 Oscars. Another 152 wins & 218 nominations.  \n",
       "1    Won 4 Oscars. Another 37 wins & 51 nominations.  \n",
       "2  Nominated for 1 Oscar. Another 46 wins & 75 no...  \n",
       "3     Won 1 Oscar. Another 19 wins & 25 nominations.  \n",
       "4     Won 1 Oscar. Another 79 wins & 55 nominations.  "
      ]
     },
     "execution_count": 14,
     "metadata": {},
     "output_type": "execute_result"
    }
   ],
   "source": [
    "#display \n",
    "movies_df_clean.head()"
   ]
  },
  {
   "cell_type": "code",
   "execution_count": 15,
   "metadata": {},
   "outputs": [],
   "source": [
    "#split the Ratings column which has list of dictionaries\n",
    "movies_df_clean = pd.concat([movies_df_clean.drop(['Ratings'], axis=1), movies_df_clean['Ratings'].apply(pd.Series)], axis=1)"
   ]
  },
  {
   "cell_type": "code",
   "execution_count": 16,
   "metadata": {},
   "outputs": [],
   "source": [
    "#split 1 which is rotten tomatoes\n",
    "movies_df_clean = pd.concat([movies_df_clean.drop([1], axis=1), movies_df_clean[1].apply(pd.Series)], axis=1)"
   ]
  },
  {
   "cell_type": "code",
   "execution_count": 17,
   "metadata": {},
   "outputs": [],
   "source": [
    "#drop 0 and Source columns\n",
    "movies_df_clean = movies_df_clean.drop(columns = [0, \"Source\"])"
   ]
  },
  {
   "cell_type": "code",
   "execution_count": 18,
   "metadata": {},
   "outputs": [],
   "source": [
    "#rename value to RottenTomatoes\n",
    "movies_df_clean = movies_df_clean.rename(columns={\"Value\": \"RottenTomatoes\"})"
   ]
  },
  {
   "cell_type": "code",
   "execution_count": 19,
   "metadata": {},
   "outputs": [],
   "source": [
    "#split 2 which is MetaCritic\n",
    "movies_df_clean = pd.concat([movies_df_clean.drop([2], axis=1), movies_df_clean[2].apply(pd.Series)], axis=1)"
   ]
  },
  {
   "cell_type": "code",
   "execution_count": 20,
   "metadata": {},
   "outputs": [],
   "source": [
    "#drop 0 and Source\n",
    "movies_df_clean = movies_df_clean.drop(columns = [0, \"Source\"])"
   ]
  },
  {
   "cell_type": "code",
   "execution_count": 21,
   "metadata": {},
   "outputs": [],
   "source": [
    "#rename value to MetaCritic\n",
    "movies_df_clean = movies_df_clean.rename(columns={\"Value\": \"MetaCritic\"})"
   ]
  },
  {
   "cell_type": "code",
   "execution_count": 22,
   "metadata": {},
   "outputs": [],
   "source": [
    "#remove percentage sign from RottenTomatoes\n",
    "movies_df_clean[\"RottenTomatoes\"] = movies_df_clean['RottenTomatoes'].str.rstrip('%')\n",
    "\n",
    "#remove /100 from RottenTomatoes because some of them are /100 instead of %\n",
    "movies_df_clean[\"RottenTomatoes\"] = movies_df_clean['RottenTomatoes'].str.replace('/100', '')"
   ]
  },
  {
   "cell_type": "code",
   "execution_count": 23,
   "metadata": {},
   "outputs": [],
   "source": [
    "#remove /100 from MetaCritic\n",
    "movies_df_clean[\"MetaCritic\"] = movies_df_clean['MetaCritic'].str.replace('/100', '') "
   ]
  },
  {
   "cell_type": "code",
   "execution_count": 24,
   "metadata": {},
   "outputs": [],
   "source": [
    "#rename imdbRating and imdbVotes for consistency in the database\n",
    "movies_df_clean = movies_df_clean.rename(columns={\"imdbRating\": \"IMDB_Rating\", \"imdbVotes\": \"IMDB_Votes\"})"
   ]
  },
  {
   "cell_type": "code",
   "execution_count": 25,
   "metadata": {},
   "outputs": [],
   "source": [
    "#remove comma in IMDB_Votes\n",
    "movies_df_clean[\"IMDB_Votes\"] = movies_df_clean['IMDB_Votes'].str.replace(',', '')\n",
    "#movies_df_clean[\"Year\"] = movies_df_clean['Year'].str.replace('-', '')"
   ]
  },
  {
   "cell_type": "code",
   "execution_count": 26,
   "metadata": {},
   "outputs": [],
   "source": [
    "#drop NaN rows\n",
    "movies_df_clean = movies_df_clean.dropna(how = \"all\")"
   ]
  },
  {
   "cell_type": "code",
   "execution_count": 27,
   "metadata": {},
   "outputs": [],
   "source": [
    "#replace all N/A with 0\n",
    "movies_df_clean = movies_df_clean.replace(\"N/A\", \"0\")"
   ]
  },
  {
   "cell_type": "code",
   "execution_count": 28,
   "metadata": {},
   "outputs": [],
   "source": [
    "#fill NaN to 0 so it can be converted to int or float\n",
    "movies_df_clean[\"IMDB_Votes\"].fillna(0, inplace = True)\n",
    "movies_df_clean[\"RottenTomatoes\"].fillna(0, inplace = True)\n",
    "movies_df_clean[\"MetaCritic\"].fillna(0, inplace = True)"
   ]
  },
  {
   "cell_type": "code",
   "execution_count": 29,
   "metadata": {},
   "outputs": [],
   "source": [
    "#strip out \"-\" from Year as some Movies have \"-\" at the end of the year\n",
    "movies_df_clean[\"Year\"] = movies_df_clean['Year'].str.rstrip('–')"
   ]
  },
  {
   "cell_type": "code",
   "execution_count": 30,
   "metadata": {},
   "outputs": [],
   "source": [
    "#create the key by combining the Title and the Year\n",
    "movies_df_clean['key'] = movies_df_clean['Title'] + movies_df_clean['Year']"
   ]
  },
  {
   "cell_type": "code",
   "execution_count": 31,
   "metadata": {},
   "outputs": [],
   "source": [
    "#convert columns to float or int. need to convert to string first\n",
    "movies_df_clean[\"IMDB_Votes\"] = movies_df_clean['IMDB_Votes'].astype(str).astype(int)\n",
    "movies_df_clean[\"IMDB_Rating\"] = movies_df_clean[\"IMDB_Rating\"].astype(str).astype(float)\n",
    "movies_df_clean[\"RottenTomatoes\"] = movies_df_clean[\"RottenTomatoes\"].astype(str).astype(int)\n",
    "movies_df_clean[\"MetaCritic\"] = movies_df_clean[\"MetaCritic\"].astype(str).astype(int)"
   ]
  },
  {
   "cell_type": "code",
   "execution_count": 32,
   "metadata": {},
   "outputs": [
    {
     "data": {
      "text/plain": [
       "Title              object\n",
       "Year               object\n",
       "Director           object\n",
       "Genre              object\n",
       "IMDB_Rating       float64\n",
       "IMDB_Votes          int32\n",
       "Country            object\n",
       "Awards             object\n",
       "RottenTomatoes      int32\n",
       "MetaCritic          int32\n",
       "key                object\n",
       "dtype: object"
      ]
     },
     "execution_count": 32,
     "metadata": {},
     "output_type": "execute_result"
    }
   ],
   "source": [
    "#check data types\n",
    "movies_df_clean.dtypes"
   ]
  },
  {
   "cell_type": "code",
   "execution_count": 33,
   "metadata": {},
   "outputs": [
    {
     "data": {
      "text/html": [
       "<div>\n",
       "<style scoped>\n",
       "    .dataframe tbody tr th:only-of-type {\n",
       "        vertical-align: middle;\n",
       "    }\n",
       "\n",
       "    .dataframe tbody tr th {\n",
       "        vertical-align: top;\n",
       "    }\n",
       "\n",
       "    .dataframe thead th {\n",
       "        text-align: right;\n",
       "    }\n",
       "</style>\n",
       "<table border=\"1\" class=\"dataframe\">\n",
       "  <thead>\n",
       "    <tr style=\"text-align: right;\">\n",
       "      <th></th>\n",
       "      <th>Title</th>\n",
       "      <th>Year</th>\n",
       "      <th>Director</th>\n",
       "      <th>Genre</th>\n",
       "      <th>IMDB_Rating</th>\n",
       "      <th>IMDB_Votes</th>\n",
       "      <th>Country</th>\n",
       "      <th>Awards</th>\n",
       "      <th>RottenTomatoes</th>\n",
       "      <th>MetaCritic</th>\n",
       "      <th>key</th>\n",
       "    </tr>\n",
       "  </thead>\n",
       "  <tbody>\n",
       "    <tr>\n",
       "      <th>0</th>\n",
       "      <td>Inception</td>\n",
       "      <td>2010</td>\n",
       "      <td>Christopher Nolan</td>\n",
       "      <td>Action, Adventure, Sci-Fi, Thriller</td>\n",
       "      <td>8.8</td>\n",
       "      <td>2029549</td>\n",
       "      <td>USA, UK</td>\n",
       "      <td>Won 4 Oscars. Another 152 wins &amp; 218 nominations.</td>\n",
       "      <td>87</td>\n",
       "      <td>74</td>\n",
       "      <td>Inception2010</td>\n",
       "    </tr>\n",
       "    <tr>\n",
       "      <th>1</th>\n",
       "      <td>The Matrix</td>\n",
       "      <td>1999</td>\n",
       "      <td>Lana Wachowski, Lilly Wachowski</td>\n",
       "      <td>Action, Sci-Fi</td>\n",
       "      <td>8.7</td>\n",
       "      <td>1647373</td>\n",
       "      <td>USA</td>\n",
       "      <td>Won 4 Oscars. Another 37 wins &amp; 51 nominations.</td>\n",
       "      <td>88</td>\n",
       "      <td>73</td>\n",
       "      <td>The Matrix1999</td>\n",
       "    </tr>\n",
       "    <tr>\n",
       "      <th>2</th>\n",
       "      <td>Avengers: Infinity War</td>\n",
       "      <td>2018</td>\n",
       "      <td>Anthony Russo, Joe Russo</td>\n",
       "      <td>Action, Adventure, Sci-Fi</td>\n",
       "      <td>8.4</td>\n",
       "      <td>812007</td>\n",
       "      <td>USA</td>\n",
       "      <td>Nominated for 1 Oscar. Another 46 wins &amp; 75 no...</td>\n",
       "      <td>85</td>\n",
       "      <td>68</td>\n",
       "      <td>Avengers: Infinity War2018</td>\n",
       "    </tr>\n",
       "    <tr>\n",
       "      <th>3</th>\n",
       "      <td>Back to the Future</td>\n",
       "      <td>1985</td>\n",
       "      <td>Robert Zemeckis</td>\n",
       "      <td>Adventure, Comedy, Sci-Fi</td>\n",
       "      <td>8.5</td>\n",
       "      <td>1039498</td>\n",
       "      <td>USA</td>\n",
       "      <td>Won 1 Oscar. Another 19 wins &amp; 25 nominations.</td>\n",
       "      <td>96</td>\n",
       "      <td>87</td>\n",
       "      <td>Back to the Future1985</td>\n",
       "    </tr>\n",
       "    <tr>\n",
       "      <th>4</th>\n",
       "      <td>Spider-Man: Into the Spider-Verse</td>\n",
       "      <td>2018</td>\n",
       "      <td>Bob Persichetti, Peter Ramsey, Rodney Rothman</td>\n",
       "      <td>Animation, Action, Adventure, Family, Sci-Fi</td>\n",
       "      <td>8.4</td>\n",
       "      <td>344012</td>\n",
       "      <td>USA</td>\n",
       "      <td>Won 1 Oscar. Another 79 wins &amp; 55 nominations.</td>\n",
       "      <td>97</td>\n",
       "      <td>87</td>\n",
       "      <td>Spider-Man: Into the Spider-Verse2018</td>\n",
       "    </tr>\n",
       "  </tbody>\n",
       "</table>\n",
       "</div>"
      ],
      "text/plain": [
       "                               Title  Year  \\\n",
       "0                          Inception  2010   \n",
       "1                         The Matrix  1999   \n",
       "2             Avengers: Infinity War  2018   \n",
       "3                 Back to the Future  1985   \n",
       "4  Spider-Man: Into the Spider-Verse  2018   \n",
       "\n",
       "                                        Director  \\\n",
       "0                              Christopher Nolan   \n",
       "1                Lana Wachowski, Lilly Wachowski   \n",
       "2                       Anthony Russo, Joe Russo   \n",
       "3                                Robert Zemeckis   \n",
       "4  Bob Persichetti, Peter Ramsey, Rodney Rothman   \n",
       "\n",
       "                                          Genre  IMDB_Rating  IMDB_Votes  \\\n",
       "0           Action, Adventure, Sci-Fi, Thriller          8.8     2029549   \n",
       "1                                Action, Sci-Fi          8.7     1647373   \n",
       "2                     Action, Adventure, Sci-Fi          8.4      812007   \n",
       "3                     Adventure, Comedy, Sci-Fi          8.5     1039498   \n",
       "4  Animation, Action, Adventure, Family, Sci-Fi          8.4      344012   \n",
       "\n",
       "   Country                                             Awards  RottenTomatoes  \\\n",
       "0  USA, UK  Won 4 Oscars. Another 152 wins & 218 nominations.              87   \n",
       "1      USA    Won 4 Oscars. Another 37 wins & 51 nominations.              88   \n",
       "2      USA  Nominated for 1 Oscar. Another 46 wins & 75 no...              85   \n",
       "3      USA     Won 1 Oscar. Another 19 wins & 25 nominations.              96   \n",
       "4      USA     Won 1 Oscar. Another 79 wins & 55 nominations.              97   \n",
       "\n",
       "   MetaCritic                                    key  \n",
       "0          74                          Inception2010  \n",
       "1          73                         The Matrix1999  \n",
       "2          68             Avengers: Infinity War2018  \n",
       "3          87                 Back to the Future1985  \n",
       "4          87  Spider-Man: Into the Spider-Verse2018  "
      ]
     },
     "execution_count": 33,
     "metadata": {},
     "output_type": "execute_result"
    }
   ],
   "source": [
    "#display\n",
    "movies_df_clean.head()"
   ]
  },
  {
   "cell_type": "code",
   "execution_count": 34,
   "metadata": {},
   "outputs": [],
   "source": [
    "#save the csv\n",
    "movies_df_clean.to_csv(\"movies_df_clean.csv\", encoding=\"utf-8\")"
   ]
  }
 ],
 "metadata": {
  "kernelspec": {
   "display_name": "Python 3",
   "language": "python",
   "name": "python3"
  },
  "language_info": {
   "codemirror_mode": {
    "name": "ipython",
    "version": 3
   },
   "file_extension": ".py",
   "mimetype": "text/x-python",
   "name": "python",
   "nbconvert_exporter": "python",
   "pygments_lexer": "ipython3",
   "version": "3.6.10"
  }
 },
 "nbformat": 4,
 "nbformat_minor": 4
}
